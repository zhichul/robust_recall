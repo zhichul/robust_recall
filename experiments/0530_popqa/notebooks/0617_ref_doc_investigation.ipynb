{
 "cells": [
  {
   "cell_type": "code",
   "execution_count": 33,
   "id": "62c86c3d",
   "metadata": {},
   "outputs": [],
   "source": [
    "from openai import OpenAI\n",
    "import re\n",
    "\n",
    "base_model_host = \"nid008316\"\n",
    "instruct_model_host = \"nid008313\"\n",
    "instruct_model_host = \"nid008424\"\n",
    "\n",
    "model_base = 'allenai/OLMo-2-1124-7B'\n",
    "model_ins = 'allenai/OLMo-2-1124-7B-Instruct'\n",
    "model_ins = 'meta-llama/Llama-3.1-8B-Instruct'\n",
    "\n",
    "client_base = OpenAI(base_url=f'http://{base_model_host}:8001/v1', api_key=\"EMPTY\")\n",
    "client_ins = OpenAI(base_url=f'http://{instruct_model_host}:8001/v1', api_key=\"EMPTY\")\n",
    "# client_llm = OpenAI(base_url=f'http://{llm_host}:8001/v1', api_key=\"EMPTY\")\n",
    "\n",
    "# model_llm = cmdline_args.llm_name\n",
    "\n",
    "prompt_simple = \"You are a helpful assistant. When responding to questions, enclose your thoughts in <thought></thought> and your clean, final answer in <answer></answer>. The answer should be a short phrase or name rather than a sentence.\"\n",
    "prompt_gen_read = prompt_simple + \" When you are asked a factual question about an entity, you must try to recollect by yourself the wikipedia article about the entity first without using any external tools.\"\n",
    "\n",
    "def get_answers(question, model=None, temperature=1.0, max_completion_tokens=1024, gen_read=False, n=1, augment=None):\n",
    "    if model is None: model = model_ins\n",
    "    user = question if not augment else f'{question}\\nIf it helps, here is what you recollected earlier about the entity/concept in question:\\n```{augment}```'\n",
    "    print(user)\n",
    "    output = client_ins.chat.completions.create(model=model, messages=[{\n",
    "                \"role\": \"system\",\n",
    "                \"content\": prompt_simple if not gen_read else prompt_gen_read\n",
    "            }, {'role': 'user', 'content': user}], max_completion_tokens=max_completion_tokens, temperature=temperature, n=n)\n",
    "    return [c.message.content for c in output.choices]\n",
    "\n",
    "def extract_answer(solution_str):\n",
    "    answer = re.findall(r'<answer>(.*?)</answer>', solution_str, re.IGNORECASE)\n",
    "    if answer:\n",
    "        return answer[0]\n",
    "    else:\n",
    "        return \"\"\n"
   ]
  },
  {
   "cell_type": "code",
   "execution_count": 40,
   "id": "5799baa5",
   "metadata": {},
   "outputs": [
    {
     "name": "stdout",
     "output_type": "stream",
     "text": [
      "What is the capital of Bolivia?\n",
      "If it helps, here is what you recollected earlier about the entity/concept in question:\n",
      "```Bolivia\n",
      "\n",
      "Bolivia, officially the Plurinational State of Bolivia, is a landlocked country located in western-central South America. It is bordered by Brazil to the north and east, Paraguay to the southeast, Argentina to the south, Chile to the southwest and Peru to the west. The seat of government and executive capital is La Paz, while the constitutional capital is Sucre. The largest city and principal industrial center is Santa Cruz de la Sierra, located on the Llanos Orientales (tropical lowlands), a mostly flat region in the east of the country.\n",
      "The sovereign state of Bolivia is a constitutionally unitary state, divided into nine departments. Its geography varies from the peaks of the Andes in the West, to the Eastern Lowlands, situated within the Amazon basin. One-third of the country is within the Andean mountain range. With of area, Bolivia is the fifth largest country in South America, after Brazil, Argentina, Peru, and Colombia (and alongside Paraguay, one of the only two landlocked countries in the Americas), the 27th largest in the world, the largest landlocked country in the Southern Hemisphere, and the world's seventh largest landlocked country, after Kazakhstan, Mongolia, Chad, Niger, Mali, and Ethiopia.\n",
      "The country's population, estimated at 12 million, is multiethnic, including Amerindians, Mestizos, Europeans, Asians, and Africans. Spanish is the official and predominant language, although 36 indigenous languages also have official status, of which the most commonly spoken are Guarani, Aymara, and Quechua languages.\n",
      "Before Spanish colonization, the Andean region of Bolivia was part of the Inca Empire, while the northern and eastern lowlands were inhabited by independent tribes. Spanish \"conquistadors\" arriving from Cusco and Asunción took control of the region in the 16th century. During the Spanish colonial period Bolivia was administered by the Real Audiencia of Charcas. Spain built its empire in large part upon the silver that was extracted from Bolivia's mines.\n",
      "After the first call for independence in 1809, 16 years of war followed before the establishment of the Republic, named for Simón Bolívar. Over the course of the 19th and early 20th century Bolivia lost control of several peripheral territories to neighboring countries including the seizure of its coastline by Chile in 1879. Bolivia remained relatively politically stable until 1971, when Hugo Banzer led a CIA-supported coup d'état which replaced the socialist government of Juan José Torres with a military dictatorship headed by Banzer. Banzer's regime cracked down on left-wing and socialist opposition and other forms of dissent, resulting in the torture and deaths of a number of Bolivian citizens. Banzer was ousted in 1978 and later returned as the democratically elected president of Bolivia from 1997 to 2001. Under the 2006–2019 presidency of Evo Morales the country saw significant economic growth and political stability.\n",
      "Modern Bolivia is a charter member of the UN, IMF, NAM, OAS, ACTO, Bank of the South, ALBA, and USAN. Bolivia remains the second poorest country in South America, though it has slashed poverty rates and has the fastest growing economy in South America (in terms of GDP). It is a developing country. Its main economic activities include agriculture, forestry, fishing, mining, and manufacturing goods such as textiles, clothing, refined metals, and refined petroleum. Bolivia is very rich in minerals, including tin, silver, lithium, and copper.\n",
      "Etymology.\n",
      "Bolivia is named after Simón Bolívar, a Venezuelan leader in the Spanish American wars of independence. The leader of Venezuela, Antonio José de Sucre, had been given the option by Bolívar to either unite Charcas (present-day Bolivia) with the newly formed Republic of Peru, to unite with the United Provinces of the Río de la Plata, or to formally declare its independence from Spain as a wholly independent state. Sucre opted to create a brand new state and on 6 August 1825, with local support, named it in honor of Simón Bolívar.\n",
      "The original name was Republic of Bolívar. Some days later, congressman Manuel Martín Cruz proposed: \"If from Romulus, Rome, then from Bolívar, Bolivia\" (). The name was approved by the Republic on 3 October 1825. In 2009, a new constitution changed the country's official name to \"Plurinational State of Bolivia\" to reflect the multi-ethnic nature of the country and the strengthened rights of Bolivia's indigenous peoples under the new constitution.\n",
      "History.\n",
      "Pre-colonial.\n",
      "The region now known as Bolivia had been occupied for over 2,500 years when the Aymara arrived. However, present-day Aymara associate themselves with the ancient civilization of the Tiwanaku Empire which had its capital at Tiwanaku, in Western Bolivia. The capital city of Tiwanaku dates from as early as 1500 BC when it was a small, agriculturally-based village.\n",
      "The Aymara community grew to urban proportions between AD 600 and AD 800, becoming an important regional power in the southern Andes. According to early estimates, the city covered approximately at its maximum extent and had between 15,000 and 30,000 inhabitants. In 1996 satellite imaging was used to map the extent of fossilized suka kollus (flooded raised fields) across the three primary valleys of Tiwanaku, arriving at population-carrying capacity estimates of anywhere between 285,000 and 1,482,000 people.\n",
      "Around AD 400, Tiwanaku went from being a locally dominant force to a predatory state. Tiwanaku expanded its reaches into the Yungas and brought its culture and way of life to many other cultures in Peru, Bolivia, and Chile. Tiwanaku was not a violent culture in many respects. In order to expand its reach, Tiwanaku exercised great political astuteness, creating colonies, fostering trade agreements (which made the other cultures rather dependent), and instituting state cults.\n",
      "The empire continued to grow with no end in sight. William H. Isbell states \"Tiahuanaco underwent a dramatic transformation between AD 600 and 700 that established new monumental standards for civic architecture and greatly increased the resident population.\" Tiwanaku continued to absorb cultures rather than eradicate them. Archaeologists note a dramatic adoption of Tiwanaku ceramics into the cultures which became part of the Tiwanaku empire. Tiwanaku's power was further solidified through the trade it implemented among the cities within its empire.\n",
      "Tiwanaku's elites gained their status through the surplus food they controlled, collected from outlying regions, and then redistributed to the general populace. Further, this elite's control of llama herds became a powerful control mechanism, as llamas were essential for carrying goods between the civic center and the periphery. These herds also came to symbolize class distinctions between the commoners and the elites. Through this control and manipulation of surplus resources, the elite's power continued to grow until about AD 950. At this time, a dramatic shift in climate occurred, causing a significant drop in precipitation in the Titicaca Basin, believed by archaeologists to have been on the scale of a major drought.\n",
      "As the rainfall decreased, many of the cities farther away from Lake Titicaca began to tender fewer foodstuffs to the elites. As the surplus of food decreased, and thus the amount available to underpin their power, the control of the elites began to falter. The capital city became the last place viable for food production due to the resiliency of the raised field method of agriculture. Tiwanaku disappeared around AD 1000 because food production, the main source of the elites' power, dried up. The area remained uninhabited for centuries thereafter.\n",
      "Between 1438 and 1527, the Inca empire expanded from its capital at Cusco, Peru. It gained control over much of what is now Andean Bolivia and extended its control into the fringes of the Amazon basin.\n",
      "Colonial period.\n",
      "The Spanish conquest of the Inca empire began in 1524 and was mostly completed by 1533. The territory now called Bolivia was known as Charcas, and was under the authority of the Viceroy of Peru in Lima. Local government came from the Audiencia de Charcas lo```\n"
     ]
    },
    {
     "ename": "AssertionError",
     "evalue": "",
     "output_type": "error",
     "traceback": [
      "\u001b[0;31m---------------------------------------------------------------------------\u001b[0m",
      "\u001b[0;31mAssertionError\u001b[0m                            Traceback (most recent call last)",
      "Cell \u001b[0;32mIn[40], line 23\u001b[0m\n\u001b[1;32m     21\u001b[0m     \u001b[38;5;28;01mfor\u001b[39;00m doc_group, ref_aug \u001b[38;5;129;01min\u001b[39;00m \u001b[38;5;28mzip\u001b[39m(instance[\u001b[38;5;124m'\u001b[39m\u001b[38;5;124ms_docs\u001b[39m\u001b[38;5;124m'\u001b[39m], instance[\u001b[38;5;124m'\u001b[39m\u001b[38;5;124mprefix_before_answer\u001b[39m\u001b[38;5;124m'\u001b[39m]):\n\u001b[1;32m     22\u001b[0m         ref_aug_answers_groups\u001b[38;5;241m.\u001b[39mappend(get_answers(instance[\u001b[38;5;124m'\u001b[39m\u001b[38;5;124mquestion\u001b[39m\u001b[38;5;124m'\u001b[39m], augment\u001b[38;5;241m=\u001b[39mdoc_group[\u001b[38;5;124m'\u001b[39m\u001b[38;5;124mtext\u001b[39m\u001b[38;5;124m'\u001b[39m][:\u001b[38;5;241m2048\u001b[39m\u001b[38;5;241m*\u001b[39m\u001b[38;5;241m4\u001b[39m], n\u001b[38;5;241m=\u001b[39mk_sample))\n\u001b[0;32m---> 23\u001b[0m         \u001b[38;5;28;01massert\u001b[39;00m \u001b[38;5;28;01mFalse\u001b[39;00m\n\u001b[1;32m     24\u001b[0m     ref_aug_answers\u001b[38;5;241m.\u001b[39mappend(ref_aug_answers_groups)\n\u001b[1;32m     25\u001b[0m \u001b[38;5;66;03m# ref_aug_answers = [json.dumps([ri for ri in r]) for r in ref_aug_answers]\u001b[39;00m\n\u001b[1;32m     26\u001b[0m \u001b[38;5;66;03m# dataset = dataset.add_column('prefix_before_answer_extraction_success', extraction_success)\u001b[39;00m\n\u001b[1;32m     27\u001b[0m \u001b[38;5;66;03m# dataset = dataset.add_column('model_ref_doc_augmented_predictions', ref_aug_answers)\u001b[39;00m\n\u001b[1;32m     28\u001b[0m \u001b[38;5;66;03m# dataset.to_parquet(f'{out_dir}/{freq}/dev.wikilinked.qa.ref_doc.parquet')\u001b[39;00m\n",
      "\u001b[0;31mAssertionError\u001b[0m: "
     ]
    }
   ],
   "source": [
    "from concurrent.futures import ThreadPoolExecutor\n",
    "import json\n",
    "import tqdm\n",
    "from datasets import load_dataset\n",
    "\n",
    "out_dir = f'generations/memo/fifty_fifty/split{0}'\n",
    "\n",
    "k_sample = 32 # cmdline_args.n\n",
    "def collect_answers(ans):\n",
    "    for i, ans_groups in tqdm.tqdm(enumerate(ans)):\n",
    "        for j, ans_group in enumerate(ans_groups):\n",
    "            for k, a in enumerate(ans_group):\n",
    "                ans[i][j][k] = a.result()\n",
    "freq = '100000_to_inf' #'0_to_1000'# '0_to_1000' #'0_to_1000', '1000_to_10000', '10000_to_100000', '100000_to_inf']\n",
    "dataset = load_dataset('parquet', data_files=f\"../{out_dir}/{freq}/dev.decon.wikilinked.prefixes.parquet\")['train']\n",
    "ref_aug_answers = []\n",
    "extraction_success = []\n",
    "for i in [0]:#tqdm.tqdm(range(len(dataset))):\n",
    "    instance = dataset[i]\n",
    "    ref_aug_answers_groups = []\n",
    "    for doc_group, ref_aug in zip(instance['s_docs'], instance['prefix_before_answer']):\n",
    "        ref_aug_answers_groups.append(get_answers(instance['question'], augment=doc_group['text'][:2048*4], n=k_sample))\n",
    "        assert False\n",
    "    ref_aug_answers.append(ref_aug_answers_groups)\n",
    "# ref_aug_answers = [json.dumps([ri for ri in r]) for r in ref_aug_answers]\n",
    "# dataset = dataset.add_column('prefix_before_answer_extraction_success', extraction_success)\n",
    "# dataset = dataset.add_column('model_ref_doc_augmented_predictions', ref_aug_answers)\n",
    "# dataset.to_parquet(f'{out_dir}/{freq}/dev.wikilinked.qa.ref_doc.parquet')\n"
   ]
  },
  {
   "cell_type": "code",
   "execution_count": 41,
   "id": "cff1de16",
   "metadata": {},
   "outputs": [
    {
     "data": {
      "text/plain": [
       "['La Paz and Sucre',\n",
       " 'La Paz',\n",
       " 'La Paz and Sucre',\n",
       " 'La Paz and Sucre',\n",
       " 'La Paz and Sucre ',\n",
       " 'La Paz.',\n",
       " '',\n",
       " ' La Paz ',\n",
       " 'La Paz',\n",
       " 'La Paz and Sucre',\n",
       " 'Sucre (Constitutional) and La Paz (Executive)',\n",
       " 'La Paz',\n",
       " 'La Paz',\n",
       " 'La Paz',\n",
       " 'Sucre',\n",
       " 'La Paz/Sucre',\n",
       " ' La Paz ',\n",
       " 'La Paz',\n",
       " 'La Paz',\n",
       " 'Sucre',\n",
       " '',\n",
       " '',\n",
       " 'La Paz and Sucre',\n",
       " ' La Paz ',\n",
       " 'La Paz (executive capital) and Sucre (constitutional capital)',\n",
       " '',\n",
       " ' La Paz ',\n",
       " 'La Paz',\n",
       " ' La Paz ',\n",
       " '',\n",
       " '',\n",
       " ' La Paz ']"
      ]
     },
     "execution_count": 41,
     "metadata": {},
     "output_type": "execute_result"
    }
   ],
   "source": [
    "[extract_answer(ans) for ans in ref_aug_answers_groups[0]]"
   ]
  },
  {
   "cell_type": "code",
   "execution_count": 39,
   "id": "aee3652d",
   "metadata": {},
   "outputs": [
    {
     "data": {
      "text/plain": [
       "[\"<thought></thought> The passage about Mali mentions its capital, Bamako, a few times, as well as mentions several details about Mali's locations and borders. <answer></answer> Bamako\",\n",
       " '<answer></answer>\\n \\nFirst I need to find  where the capital is mentioned in the text. It was mentioned in the following section:\\n\"Mali (; ), officially the Republic of Mali, is a landlocked country in West Africa. Mali is the eighth-largest country in Africa, with an area of over . The population of Mali is million. 67% of its population was estimated to be under the age of 25 in 2017. Its capital and largest city is Bamako. \\n<answer>Bamako</answer>',\n",
       " '<thought>I will look through the provided information to find the capital of Mali.</thought>\\n<answer>Bamako</answer>',\n",
       " '<thought> The text mentions Mali as a country in West Africa with a rich history, including the Mali Empire, which was once the wealthiest country in Africa. It also mentions the capital of Mali, which is Bamako.</thought>\\n<answer>Bamako</answer>',\n",
       " '<answer>Bamako</answer>',\n",
       " '<thought>Looking up previous information did not provide the requested answer directly.</thought>\\n<thought>This large block of text about Mali likely will contain the answer I need within it.</thought>\\n<thought>The Capital of Mali has not been mentioned as the last topic of conversation in this large block of text but it mentioned its capital earlier, which is a helpful lead.</thought>\\n<answer>Bamako</answer>',\n",
       " \"<thought>The entity/concept in question is indeed the country Mali. The text appears to provide historical information about Mali, including its past empires, rulers, colonies, and conflicts. We're looking for the country's capital.</thought>\\n\\n<answer>Bamako</answer>\",\n",
       " '<answer></answer> \\nBamako',\n",
       " \"<thought>The information about Mali's capital can be found in the initial text provided.</thought>\\n<answer>Bamako</answer>\",\n",
       " '<thought> From the provided information, we extracted the text regarding the capital of Mali. </thought>\\n<answer> Bamako </answer>',\n",
       " '<thought>A larger section of the text mentioned that \"Mali is the eighth-largest country in Africa, with an area of over 1,240,000 square kilometres (479,000 square miles).  Its capital and largest city is Bamako.\" This seems to verify that Bamako is the capital of Mali.</thought>\\n<answer>Bamako</answer>',\n",
       " '<thought> Although the provided information does not explicitly mention the capital multiple times, I recall a mention from earlier information stating that the capital of Mali is Bamako. </thought>\\n\\n<answer>Bamako</answer>',\n",
       " '<thought>This text contains a long description of the country Mali, including its history, geography, economy, and past empires.</thought>\\n<answer>Bamako</answer>',\n",
       " '<answer></answer> Bamako',\n",
       " '<thought>Since the provided text mentions Bamako as the capital and largest city of Mali, it would be a suitable choice to conclude as the answer.</thought>\\n<answer>Bamako</answer>',\n",
       " '<thought>\\nLooking through the information about Mali, I found it listed as a republic and discussed its capital multiple times, so I should be able to find it.\\n</thought>\\n\\n<answer>\\nBamako\\n</answer>',\n",
       " \"<thought>Looking at the information provided about Mali, I recall a section that specifically mentions Mali's capital and largest city.</thought>\\n<answer>Bamako</answer>\",\n",
       " '<thought> The text contains a lot of information about Mali, including its name origin, history, and former empires. To find the capital, we can look for keywords such as \"capital,\" \"largest city,\" or \"most populous city\" in the text. </thought>\\n\\n<answer> Bamako </answer>',\n",
       " '<thought> To determine the capital of Mali, I will recall the information I previously learned about the entity/concept in question. According to the description, the capital and largest city of Mali is mentioned. </thought>\\n\\n<answer> Bamako </answer>',\n",
       " '<thought> The note mentions that the capital of Mali is Bamako, and this information seems to be provided earlier in the note under the section describing Mali. </thought>\\n<answer> Bamako.',\n",
       " '<thought>Looking through the provided information about Mali, I see that it discusses its regions, natural resources, historical empires, and its current status as a republic. I need to find the specific piece of information related to the question \"what is the capital of Mali?\"</thought>\\n\\n<answer>Bamako</answer>',\n",
       " \"<thought> The text provided includes various dates and events related to Mali's history, geography, and economy. It covers the current situation and past rulers, conflicts, and conquests. To find the capital of Mali, I need to refer to this information and find the specific sentence related to the capital. </thought>\\n\\n<answer>Bamako</answer>\",\n",
       " '<thought> After rechecking the provided knowledge about Mali, I found that the capital of Mali is also mentioned, which is Bamako. </thought>\\n<answer>Bamako</answer>',\n",
       " '<answer>Bamako</answer>',\n",
       " '<answer></answer>\\nBamako',\n",
       " \"<thought> Since I previously mentioned Mali, I have all the needed information about the entity. The capital's name is given in the text, as is the information about Malian history and regions, but what's required right now is the capital's name. The passage stating the capital's name is:</thought>\\n\\nBamako is referred to as the capital and largest city of Mali.\\n\\n<answer>Bamako</answer>\",\n",
       " '<thought> We can check the provided information to find out which city is the capital of the Republic of Mali. The answer should be mentioned in the provided text. Looking through the information about Mali, I see the following phrase: \"Its capital and largest city is Bamako.\" </thought>\\n\\n<answer></answer> Bamako',\n",
       " '<thought>Considering this extensive information, I need to identify the capital of Mali, which is mentioned in the text as \"Bamako\".</thought>\\n<answer>Bamako</answer>',\n",
       " '<thought It seems I have all the necessary information about Mali from my previous recall. I just need to find the specific sentence that mentions the capital.</thought>\\n\\n<answer>Bamako</answer>',\n",
       " 'To find the capital of Mali, I will need to scan the information provided. <thought>Considering the amount of information given, specifically about Mali, I can look for keywords like \"capital\" or phrases like \"largest city\" to find the answer.</thought>\\n\\n<answer>Bamako</answer>',\n",
       " \"<thought>The information about Mali provided outlines its history, geography, economy, and culture across various periods. Considering the context, it's essential to find the information specifically about the capital of Mali.</thought>\\n\\n<answer>Bamako</answer>\",\n",
       " \"<thought>Considering the provided information, I'll focus on the relevant details to identify the capital of Mali.</thought>\\n<answer>Bamako</answer>\"]"
      ]
     },
     "execution_count": 39,
     "metadata": {},
     "output_type": "execute_result"
    }
   ],
   "source": [
    "ref_aug_answers_groups[0]"
   ]
  },
  {
   "cell_type": "code",
   "execution_count": null,
   "id": "481f3436",
   "metadata": {},
   "outputs": [],
   "source": []
  }
 ],
 "metadata": {
  "kernelspec": {
   "display_name": "Python 3",
   "language": "python",
   "name": "python3"
  },
  "language_info": {
   "codemirror_mode": {
    "name": "ipython",
    "version": 3
   },
   "file_extension": ".py",
   "mimetype": "text/x-python",
   "name": "python",
   "nbconvert_exporter": "python",
   "pygments_lexer": "ipython3",
   "version": "3.10.0"
  }
 },
 "nbformat": 4,
 "nbformat_minor": 5
}
